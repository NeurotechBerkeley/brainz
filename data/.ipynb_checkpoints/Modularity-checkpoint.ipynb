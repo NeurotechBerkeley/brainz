{
 "cells": [
  {
   "cell_type": "code",
   "execution_count": 3,
   "metadata": {
    "collapsed": true
   },
   "outputs": [],
   "source": [
    "import scipy\n",
    "from scipy import io\n",
    "import numpy as np"
   ]
  },
  {
   "cell_type": "code",
   "execution_count": 10,
   "metadata": {
    "collapsed": true
   },
   "outputs": [],
   "source": [
    "def modularity_louvain_und_sign(W, gamma=1, qtype='sta', seed=None):\n",
    "    '''\n",
    "    The optimal community structure is a subdivision of the network into\n",
    "    nonoverlapping groups of nodes in a way that maximizes the number of\n",
    "    within-group edges, and minimizes the number of between-group edges.\n",
    "    The modularity is a statistic that quantifies the degree to which the\n",
    "    network may be subdivided into such clearly delineated groups.\n",
    "\n",
    "    The Louvain algorithm is a fast and accurate community detection\n",
    "    algorithm (at the time of writing).\n",
    "\n",
    "    Use this function as opposed to modularity_louvain_und() only if the\n",
    "    network contains a mix of positive and negative weights.  If the network\n",
    "    contains all positive weights, the output will be equivalent to that of\n",
    "    modularity_louvain_und().\n",
    "\n",
    "    Parameters\n",
    "    ----------\n",
    "    W : NxN np.ndarray\n",
    "        undirected weighted/binary connection matrix with positive and\n",
    "        negative weights\n",
    "    qtype : str\n",
    "        modularity type. Can be 'sta' (default), 'pos', 'smp', 'gja', 'neg'.\n",
    "        See Rubinov and Sporns (2011) for a description.\n",
    "    gamma : float\n",
    "        resolution parameter. default value=1. Values 0 <= gamma < 1 detect\n",
    "        larger modules while gamma > 1 detects smaller modules.\n",
    "    seed : int | None\n",
    "        random seed. default value=None. if None, seeds from /dev/urandom.\n",
    "\n",
    "    Returns\n",
    "    -------\n",
    "    ci : Nx1 np.ndarray\n",
    "        refined community affiliation vector\n",
    "    Q : float\n",
    "        optimized modularity metric\n",
    "\n",
    "    Notes\n",
    "    -----\n",
    "    Ci and Q may vary from run to run, due to heuristics in the\n",
    "    algorithm. Consequently, it may be worth to compare multiple runs.\n",
    "    '''\n",
    "    np.random.seed(seed)\n",
    "\n",
    "    n = len(W)  # number of nodes\n",
    "\n",
    "    W0 = W * (W > 0)  # positive weights matrix\n",
    "    W1 = -W * (W < 0)  # negative weights matrix\n",
    "    s0 = np.sum(W0)  # weight of positive links\n",
    "    s1 = np.sum(W1)  # weight of negative links\n",
    "\n",
    "    if qtype == 'smp':\n",
    "        d0 = 1 / s0\n",
    "        d1 = 1 / s1  # dQ=dQ0/s0-sQ1/s1\n",
    "    elif qtype == 'gja':\n",
    "        d0 = 1 / (s0 + s1)\n",
    "        d1 = d0  # dQ=(dQ0-dQ1)/(s0+s1)\n",
    "    elif qtype == 'sta':\n",
    "        d0 = 1 / s0\n",
    "        d1 = 1 / (s0 + s1)  # dQ=dQ0/s0-dQ1/(s0+s1)\n",
    "    elif qtype == 'pos':\n",
    "        d0 = 1 / s0\n",
    "        d1 = 0  # dQ=dQ0/s0\n",
    "    elif qtype == 'neg':\n",
    "        d0 = 0\n",
    "        d1 = 1 / s1  # dQ=-dQ1/s1\n",
    "    else:\n",
    "        raise KeyError('modularity type unknown')\n",
    "\n",
    "    if not s0:  # adjust for absent positive weights\n",
    "        s0 = 1\n",
    "        d0 = 0\n",
    "    if not s1:  # adjust for absent negative weights\n",
    "        s1 = 1\n",
    "        d1 = 0\n",
    "\n",
    "    h = 1  # hierarchy index\n",
    "    nh = n  # number of nodes in hierarchy\n",
    "    ci = [None, np.arange(n) + 1]  # hierarchical module assignments\n",
    "    q = [-1, 0]  # hierarchical modularity values\n",
    "    while q[h] - q[h - 1] > 1e-10:\n",
    "        if h > 300:\n",
    "            raise BCTParamError('Modularity Infinite Loop Style A.  Please '\n",
    "                                'contact the developer with this error.')\n",
    "        kn0 = np.sum(W0, axis=0)  # positive node degree\n",
    "        kn1 = np.sum(W1, axis=0)  # negative node degree\n",
    "        km0 = kn0.copy()  # positive module degree\n",
    "        km1 = kn1.copy()  # negative module degree\n",
    "        knm0 = W0.copy()  # positive node-to-module degree\n",
    "        knm1 = W1.copy()  # negative node-to-module degree\n",
    "\n",
    "        m = np.arange(nh) + 1  # initial module assignments\n",
    "        flag = True  # flag for within hierarchy search\n",
    "        it = 0\n",
    "        while flag:\n",
    "            it += 1\n",
    "            if it > 1000:\n",
    "                raise BCTParamError('Infinite Loop was detected and stopped. '\n",
    "                                    'This was probably caused by passing in a directed matrix.')\n",
    "            flag = False\n",
    "            # loop over nodes in random order\n",
    "            for u in np.random.permutation(nh):\n",
    "                ma = m[u] - 1\n",
    "                dQ0 = ((knm0[u, :] + W0[u, u] - knm0[u, ma]) -\n",
    "                       gamma * kn0[u] * (km0 + kn0[u] - km0[ma]) / s0)  # positive dQ\n",
    "                dQ1 = ((knm1[u, :] + W1[u, u] - knm1[u, ma]) -\n",
    "                       gamma * kn1[u] * (km1 + kn1[u] - km1[ma]) / s1)  # negative dQ\n",
    "\n",
    "                dQ = d0 * dQ0 - d1 * dQ1  # rescaled changes in modularity\n",
    "                dQ[ma] = 0  # no changes for same module\n",
    "\n",
    "                max_dQ = np.max(dQ)  # maximal increase in modularity\n",
    "                if max_dQ > 1e-10:  # if maximal increase is positive\n",
    "                    flag = True\n",
    "                    mb = np.argmax(dQ)\n",
    "\n",
    "                    # change positive node-to-module degrees\n",
    "                    knm0[:, mb] += W0[:, u]\n",
    "                    knm0[:, ma] -= W0[:, u]\n",
    "                    # change negative node-to-module degrees\n",
    "                    knm1[:, mb] += W1[:, u]\n",
    "                    knm1[:, ma] -= W1[:, u]\n",
    "                    km0[mb] += kn0[u]  # change positive module degrees\n",
    "                    km0[ma] -= kn0[u]\n",
    "                    km1[mb] += kn1[u]  # change negative module degrees\n",
    "                    km1[ma] -= kn1[u]\n",
    "\n",
    "                    m[u] = mb + 1  # reassign module\n",
    "\n",
    "        h += 1\n",
    "        ci.append(np.zeros((n,)))\n",
    "        _, m = np.unique(m, return_inverse=True)\n",
    "        m += 1\n",
    "\n",
    "        for u in range(nh):  # loop through initial module assignments\n",
    "            ci[h][np.where(ci[h - 1] == u + 1)] = m[u]  # assign new modules\n",
    "\n",
    "        nh = np.max(m)  # number of new nodes\n",
    "        wn0 = np.zeros((nh, nh))  # new positive weights matrix\n",
    "        wn1 = np.zeros((nh, nh))\n",
    "\n",
    "        for u in range(nh):\n",
    "            for v in range(u, nh):\n",
    "                wn0[u, v] = np.sum(W0[np.ix_(m == u + 1, m == v + 1)])\n",
    "                wn1[u, v] = np.sum(W1[np.ix_(m == u + 1, m == v + 1)])\n",
    "                wn0[v, u] = wn0[u, v]\n",
    "                wn1[v, u] = wn1[u, v]\n",
    "\n",
    "        W0 = wn0\n",
    "        W1 = wn1\n",
    "\n",
    "        q.append(0)\n",
    "        # compute modularity\n",
    "        q0 = np.trace(W0) - np.sum(np.dot(W0, W0)) / s0\n",
    "        q1 = np.trace(W1) - np.sum(np.dot(W1, W1)) / s1\n",
    "        q[h] = d0 * q0 - d1 * q1\n",
    "\n",
    "    _, ci_ret = np.unique(ci[-1], return_inverse=True)\n",
    "    ci_ret += 1\n",
    "\n",
    "    return ci_ret, q[-1]"
   ]
  },
  {
   "cell_type": "code",
   "execution_count": 47,
   "metadata": {
    "collapsed": false
   },
   "outputs": [],
   "source": [
    "controls = scipy.io.loadmat(\"controls.mat\")['controls'] #17, 116, 116"
   ]
  },
  {
   "cell_type": "code",
   "execution_count": 48,
   "metadata": {
    "collapsed": true
   },
   "outputs": [],
   "source": [
    "depressed = scipy.io.loadmat(\"depressed.mat\")['depressed'] #16, 116, 116"
   ]
  },
  {
   "cell_type": "code",
   "execution_count": 50,
   "metadata": {
    "collapsed": false
   },
   "outputs": [],
   "source": [
    "controls_mod = [modularity_louvain_und_sign(controls[i])[1] for i in range(len(controls))]"
   ]
  },
  {
   "cell_type": "code",
   "execution_count": 51,
   "metadata": {
    "collapsed": true
   },
   "outputs": [],
   "source": [
    "depressed_mod = [modularity_louvain_und_sign(depressed[i])[1] for i in range(len(depressed))]"
   ]
  },
  {
   "cell_type": "code",
   "execution_count": 58,
   "metadata": {
    "collapsed": false
   },
   "outputs": [
    {
     "data": {
      "text/plain": [
       "(0.091295740447336154, 0.041626066917271783)"
      ]
     },
     "execution_count": 58,
     "metadata": {},
     "output_type": "execute_result"
    }
   ],
   "source": [
    "np.mean(depressed_mod), np.std(depressed_mod)"
   ]
  },
  {
   "cell_type": "code",
   "execution_count": 59,
   "metadata": {
    "collapsed": false
   },
   "outputs": [
    {
     "data": {
      "text/plain": [
       "(0.061114247539096812, 0.016056117480455007)"
      ]
     },
     "execution_count": 59,
     "metadata": {},
     "output_type": "execute_result"
    }
   ],
   "source": [
    "np.mean(controls_mod), np.std(controls_mod)"
   ]
  },
  {
   "cell_type": "code",
   "execution_count": 60,
   "metadata": {
    "collapsed": true
   },
   "outputs": [],
   "source": [
    "import scipy.stats as stats\n",
    "test_statistic,p_value= stats.ranksums(depressed_mod, controls_mod)"
   ]
  },
  {
   "cell_type": "code",
   "execution_count": 61,
   "metadata": {
    "collapsed": false
   },
   "outputs": [
    {
     "data": {
      "text/plain": [
       "0.014305878435429648"
      ]
     },
     "execution_count": 61,
     "metadata": {},
     "output_type": "execute_result"
    }
   ],
   "source": [
    "p_value"
   ]
  }
 ],
 "metadata": {
  "anaconda-cloud": {},
  "kernelspec": {
   "display_name": "Python 3",
   "language": "python",
   "name": "python3"
  },
  "language_info": {
   "codemirror_mode": {
    "name": "ipython",
    "version": 3
   },
   "file_extension": ".py",
   "mimetype": "text/x-python",
   "name": "python",
   "nbconvert_exporter": "python",
   "pygments_lexer": "ipython3",
   "version": "3.5.1"
  }
 },
 "nbformat": 4,
 "nbformat_minor": 0
}
